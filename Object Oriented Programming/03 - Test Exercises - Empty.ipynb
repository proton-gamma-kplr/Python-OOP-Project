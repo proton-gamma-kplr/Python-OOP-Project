{
 "cells": [
  {
   "cell_type": "markdown",
   "id": "018f51b4",
   "metadata": {},
   "source": [
    "# Test Exercises"
   ]
  },
  {
   "cell_type": "markdown",
   "id": "d77460b0",
   "metadata": {},
   "source": [
    "### Exercise 1\n",
    "\n",
    "Create a `class` for a book called `Book`.\n",
    "\n",
    "The attributes should be.\n",
    "- `title`\n",
    "- `author`\n",
    "- `pages`\n",
    "\n",
    "Try it out."
   ]
  },
  {
   "cell_type": "markdown",
   "id": "9813e500",
   "metadata": {},
   "source": [
    "### Exercise 2\n",
    "\n",
    "Continue with the `Book` class.\n",
    "\n",
    "- Add get and set methods for the title.\n",
    "- Add a `__str__` method for a string representation of the class.\n",
    "\n",
    "Try it out."
   ]
  },
  {
   "cell_type": "markdown",
   "id": "57e274d1",
   "metadata": {},
   "source": [
    "### Exercise 3 (Challenging)\n",
    "\n",
    "Continue with the `Book` class\n",
    "\n",
    "- Add a `__lt__` method that compares to objects.\n",
    "\n",
    "Create a list of books, sort it, and see it works."
   ]
  },
  {
   "cell_type": "code",
   "execution_count": 16,
   "id": "44f29f12",
   "metadata": {},
   "outputs": [],
   "source": [
    "class Book:\n",
    "    def __init__(self, title, author, page):\n",
    "        self.title = title\n",
    "        self.author = author\n",
    "        self.page = page\n",
    "\n",
    "    def set_title(self, title):\n",
    "        self.title = title\n",
    "\n",
    "    def set_author(self, author):\n",
    "        self.author = author\n",
    "\n",
    "    def set_page(self, page):\n",
    "        self.page = page\n",
    "\n",
    "    def get_tile(self):\n",
    "        return self.title\n",
    "    \n",
    "    def get_page(self):\n",
    "        return self.page\n",
    "    \n",
    "    def get_author(self):\n",
    "        return self.author\n",
    "    \n",
    "    def __str__(self):\n",
    "        return f\"Le titre : {self.title} - l'auteur : {self.author} - le nombre de page : {self.page}\"\n",
    "    \n",
    "    def __repr__(self):\n",
    "        return f'{self.title} - {self.author} - {self.page}'    \n",
    "\n",
    "    def __lt__(self, other):\n",
    "        if self.page > other.page:\n",
    "            return False\n",
    "        return True"
   ]
  },
  {
   "cell_type": "code",
   "execution_count": 17,
   "id": "2fb135a0",
   "metadata": {},
   "outputs": [
    {
     "name": "stdout",
     "output_type": "stream",
     "text": [
      "Le titre : The best book - l'auteur : James - le nombre de page : 250\n",
      "Le titre : The very best book - l'auteur : Peter - le nombre de page : 350\n",
      "The best book - James - 250\n",
      "The very best book - Peter - 350\n"
     ]
    },
    {
     "data": {
      "text/plain": [
       "False"
      ]
     },
     "execution_count": 17,
     "metadata": {},
     "output_type": "execute_result"
    }
   ],
   "source": [
    "b1 = Book('The best book', 'James', 250)\n",
    "b2 = Book('The very best book', 'Peter', 350)\n",
    "\n",
    "print(b1)\n",
    "print(b2)\n",
    "\n",
    "print(repr(b1))\n",
    "print(repr(b2))\n",
    "\n",
    "b2 < b1\n",
    "b2 > b1"
   ]
  }
 ],
 "metadata": {
  "kernelspec": {
   "display_name": "Python 3 (ipykernel)",
   "language": "python",
   "name": "python3"
  },
  "language_info": {
   "codemirror_mode": {
    "name": "ipython",
    "version": 3
   },
   "file_extension": ".py",
   "mimetype": "text/x-python",
   "name": "python",
   "nbconvert_exporter": "python",
   "pygments_lexer": "ipython3",
   "version": "3.11.3"
  }
 },
 "nbformat": 4,
 "nbformat_minor": 5
}
