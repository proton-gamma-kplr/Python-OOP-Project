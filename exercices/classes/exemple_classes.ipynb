{
 "cells": [
  {
   "attachments": {},
   "cell_type": "markdown",
   "metadata": {},
   "source": [
    "# Programmation Orientée Objet"
   ]
  },
  {
   "attachments": {},
   "cell_type": "markdown",
   "metadata": {},
   "source": [
    "- Dans cet exemple, la classe **Vehicule** est la classe mère qui définit les attributs de base pour tous les véhicules, \n",
    "à savoir la **marque**, le **modèle** et l'**année**. \n",
    "- Les classes **Voiture** et **Moto** sont des classes enfant qui héritent de ces attributs de base, <br>mais qui ont égalementleurs propres attributs spécifiques (**nb_portes** pour la classe **Voiture** et **nb_roues** pour la classe **Moto**).<br>\n",
    "- Les constructeurs des classes enfants appellent la méthode \n",
    "```python \n",
    "super().__init__(marque, modele, annee)\n",
    "```\n",
    "- Pour appeler le constructeur de la classe mère et initialiser les attributs hérités.\n",
    "- Ensuite, ils initialisent leurs propres attributs spécifiques."
   ]
  },
  {
   "cell_type": "code",
   "execution_count": null,
   "metadata": {},
   "outputs": [],
   "source": [
    "class Vehicule:\n",
    "    def __init__(self, marque, modele, annee):\n",
    "        self.marque = marque\n",
    "        self.modele = modele\n",
    "        self.annee = annee\n",
    "\n",
    "class Voiture(Vehicule):\n",
    "    def __init__(self, marque, modele, annee, nb_portes):\n",
    "        super().__init__(marque, modele, annee)\n",
    "        self.nb_portes = nb_portes\n",
    "\n",
    "class Moto(Vehicule):\n",
    "    def __init__(self, marque, modele, annee, nb_roues,cylindree):\n",
    "        super().__init__(marque, modele, annee)\n",
    "        self.nb_roues = nb_roues\n",
    "        self.cylindree = cylindree"
   ]
  },
  {
   "attachments": {},
   "cell_type": "markdown",
   "metadata": {},
   "source": [
    "## Par exemple, pour créer une instance de la classe Voiture, <br>vous pouvez utiliser la syntaxe suivante :\n"
   ]
  },
  {
   "attachments": {},
   "cell_type": "markdown",
   "metadata": {},
   "source": [
    "- Ceci crée une instance de la classe Voiture avec les attributs suivants :\n",
    "\n",
    "1. marque = \"Renault\"\n",
    "2. modele = \"Clio\"\n",
    "3. annee = 2018\n",
    "4. nb_portes = 5"
   ]
  },
  {
   "cell_type": "code",
   "execution_count": null,
   "metadata": {},
   "outputs": [],
   "source": [
    "voiture1 = Voiture(\"Renault\", \"Clio\", 2018, 5)"
   ]
  },
  {
   "attachments": {},
   "cell_type": "markdown",
   "metadata": {},
   "source": [
    "- Ceci crée une instance de la classe Moto avec les attributs suivants :\n",
    "\n",
    "1. marque = \"Yamaha\"\n",
    "2. modele = \"MT-07\"\n",
    "3. annee = 20202018\n",
    "4. nb_roues =2\n",
    "5. cylindree = 300"
   ]
  },
  {
   "cell_type": "code",
   "execution_count": null,
   "metadata": {},
   "outputs": [],
   "source": [
    "moto1 = Moto(\"Yamaha\", \"MT-07\", 2020, 2,300)"
   ]
  }
 ],
 "metadata": {
  "kernelspec": {
   "display_name": "venv",
   "language": "python",
   "name": "python3"
  },
  "language_info": {
   "name": "python",
   "version": "3.11.0"
  },
  "orig_nbformat": 4,
  "vscode": {
   "interpreter": {
    "hash": "489bc9ea5f89565daed8bb9f6ae95320966dc0bef104364097a85c7752260817"
   }
  }
 },
 "nbformat": 4,
 "nbformat_minor": 2
}
